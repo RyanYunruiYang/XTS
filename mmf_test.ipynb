{
 "cells": [
  {
   "cell_type": "code",
   "execution_count": null,
   "metadata": {},
   "outputs": [],
   "source": [
    "\"\"\"\n",
    "Objective: Test the hypothesis that given an arbitrary topology, if one runs:\n",
    "some initial list n -> some throughput list t gotten from the tput_mmf function\n",
    "\n",
    "And then one runs on the same topology with \n",
    "n/t -> some new throughput t' gotten from the tput_mmf function\n",
    "\n",
    "Then t' is the max min fair throughput of the topology.\n",
    "\"\"\""
   ]
  },
  {
   "cell_type": "code",
   "execution_count": 1,
   "metadata": {},
   "outputs": [
    {
     "ename": "ModuleNotFoundError",
     "evalue": "No module named 'util'",
     "output_type": "error",
     "traceback": [
      "\u001b[0;31m---------------------------------------------------------------------------\u001b[0m",
      "\u001b[0;31mModuleNotFoundError\u001b[0m                       Traceback (most recent call last)",
      "Cell \u001b[0;32mIn[1], line 1\u001b[0m\n\u001b[0;32m----> 1\u001b[0m \u001b[38;5;28;01mfrom\u001b[39;00m \u001b[38;5;21;01msrc\u001b[39;00m\u001b[38;5;21;01m.\u001b[39;00m\u001b[38;5;21;01msimulation_main\u001b[39;00m \u001b[38;5;28;01mimport\u001b[39;00m Flow\n\u001b[1;32m      2\u001b[0m users \u001b[38;5;241m=\u001b[39m [\n\u001b[1;32m      3\u001b[0m     \u001b[38;5;66;03m# Each flow's Name, RTT, and Resources Used:\u001b[39;00m\n\u001b[1;32m      4\u001b[0m     Flow(\u001b[38;5;124m\"\u001b[39m\u001b[38;5;124mA\u001b[39m\u001b[38;5;124m\"\u001b[39m, \u001b[38;5;241m100\u001b[39m, [\u001b[38;5;124m\"\u001b[39m\u001b[38;5;124mR1\u001b[39m\u001b[38;5;124m\"\u001b[39m]), \u001b[38;5;66;03m# Blue\u001b[39;00m\n\u001b[0;32m   (...)\u001b[0m\n\u001b[1;32m     23\u001b[0m     Flow(\u001b[38;5;124m\"\u001b[39m\u001b[38;5;124mT\u001b[39m\u001b[38;5;124m\"\u001b[39m, \u001b[38;5;241m1\u001b[39m, [\u001b[38;5;124m\"\u001b[39m\u001b[38;5;124mR3\u001b[39m\u001b[38;5;124m\"\u001b[39m, \u001b[38;5;124m\"\u001b[39m\u001b[38;5;124mR4\u001b[39m\u001b[38;5;124m\"\u001b[39m]),\n\u001b[1;32m     24\u001b[0m ]\n\u001b[1;32m     26\u001b[0m resource_capacities \u001b[38;5;241m=\u001b[39m {\n\u001b[1;32m     27\u001b[0m     \u001b[38;5;124m'\u001b[39m\u001b[38;5;124mR1\u001b[39m\u001b[38;5;124m'\u001b[39m: \u001b[38;5;241m50\u001b[39m,\n\u001b[1;32m     28\u001b[0m     \u001b[38;5;124m'\u001b[39m\u001b[38;5;124mR2\u001b[39m\u001b[38;5;124m'\u001b[39m: \u001b[38;5;241m40\u001b[39m,\n\u001b[0;32m   (...)\u001b[0m\n\u001b[1;32m     36\u001b[0m     \u001b[38;5;124m'\u001b[39m\u001b[38;5;124mR10\u001b[39m\u001b[38;5;124m'\u001b[39m: \u001b[38;5;241m200\u001b[39m,\n\u001b[1;32m     37\u001b[0m }\n",
      "File \u001b[0;32m~/Dropbox (MIT)/CODE/XTS/src/simulation_main.py:5\u001b[0m\n\u001b[1;32m      1\u001b[0m \u001b[38;5;124;03m\"\"\"\u001b[39;00m\n\u001b[1;32m      2\u001b[0m \u001b[38;5;124;03mIDEAS\u001b[39;00m\n\u001b[1;32m      3\u001b[0m \u001b[38;5;124;03m- take random pairs and scale them. \u001b[39;00m\n\u001b[1;32m      4\u001b[0m \u001b[38;5;124;03m\"\"\"\u001b[39;00m\n\u001b[0;32m----> 5\u001b[0m \u001b[38;5;28;01mfrom\u001b[39;00m \u001b[38;5;21;01mutil\u001b[39;00m \u001b[38;5;28;01mimport\u001b[39;00m waterfilling, stochastic_round\n\u001b[1;32m      6\u001b[0m \u001b[38;5;28;01mfrom\u001b[39;00m \u001b[38;5;21;01mnumext\u001b[39;00m \u001b[38;5;28;01mimport\u001b[39;00m NUMSolver\n\u001b[1;32m      7\u001b[0m \u001b[38;5;28;01mimport\u001b[39;00m \u001b[38;5;21;01mcvxpy\u001b[39;00m \u001b[38;5;28;01mas\u001b[39;00m \u001b[38;5;21;01mcp\u001b[39;00m\n",
      "\u001b[0;31mModuleNotFoundError\u001b[0m: No module named 'util'"
     ]
    }
   ],
   "source": [
    "from src.simulation_main import Flow\n",
    "\n",
    "users = [\n",
    "    # Each flow's Name, RTT, and Resources Used:\n",
    "    Flow(\"A\", 100, [\"R1\"]), # Blue\n",
    "    Flow(\"B\", 1, [\"R1\", \"R2\"]),\n",
    "    Flow(\"C\", 0.5, [\"R2\"]),\n",
    "    Flow(\"D\", 2, [\"R3\"]),\n",
    "    Flow(\"E\", 1, [\"R3\", \"R4\"]),\n",
    "    Flow(\"F\", 0.5, [\"R4\"]),\n",
    "    Flow(\"G\", 10, [\"R5\"]),\n",
    "    Flow(\"H\", 1, [\"R5\", \"R6\"]),\n",
    "    Flow(\"I\", 0.5, [\"R6\"]),\n",
    "    Flow(\"J\", 2, [\"R7\"]),\n",
    "    Flow(\"K\", 1, [\"R7\", \"R8\"]),\n",
    "    Flow(\"L\", 0.5, [\"R8\"]),\n",
    "    Flow(\"M\", 10, [\"R9\"]),\n",
    "    Flow(\"N\", 1, [\"R9\", \"R10\"]),\n",
    "    Flow(\"O\", 0.5, [\"R10\"]),\n",
    "    Flow(\"P\", 2, [\"R1\"]),\n",
    "    Flow(\"Q\", 1, [\"R1\", \"R2\"]), # Brown\n",
    "    Flow(\"R\", 0.5, [\"R2\"]),\n",
    "    Flow(\"S\", 2, [\"R3\"]),\n",
    "    Flow(\"T\", 1, [\"R3\", \"R4\"]),\n",
    "]\n",
    "\n",
    "resource_capacities = {\n",
    "    'R1': 50,\n",
    "    'R2': 40,\n",
    "    'R3': 1000,\n",
    "    'R4': 10,\n",
    "    'R5': 20,\n",
    "    'R6': 15,\n",
    "    'R7': 400,\n",
    "    'R8': 10,\n",
    "    'R9': 30,\n",
    "    'R10': 200,\n",
    "}"
   ]
  },
  {
   "cell_type": "code",
   "execution_count": 3,
   "metadata": {},
   "outputs": [],
   "source": [
    "from simulation_main import WorldModel\n",
    "\n",
    "wm = WorldModel(users, resource_capacities)"
   ]
  },
  {
   "cell_type": "code",
   "execution_count": 4,
   "metadata": {},
   "outputs": [],
   "source": [
    "from util import waterfilling\n",
    "expected_throughputs = waterfilling([1 for _ in users], resource_capacities, [[1 if resource in user.resources_used else 0 for resource in resource_capacities] for user in users])"
   ]
  },
  {
   "cell_type": "code",
   "execution_count": 5,
   "metadata": {},
   "outputs": [
    {
     "name": "stdout",
     "output_type": "stream",
     "text": [
      "[97, 23, 35, 52, 74, 7, 70, 59, 8, 57, 44, 10, 2, 3, 87, 41, 13, 83, 77, 47]\n",
      "Flow A: n: 97 to 48.025000000000006 \n",
      "                        2.020 vs. 15.000 vs. 15.000\n",
      "Flow B: n: 23 to 6.799999999999999 \n",
      "                        3.382 vs. 10.000 vs. 10.000\n",
      "Flow C: n: 35 to 3.4 \n",
      "                        10.294 vs. 10.000 vs. 10.000\n",
      "Flow D: n: 52 to 0.13016667912400032 \n",
      "                        399.488 vs. 496.667 vs. 496.667\n",
      "Flow E: n: 74 to 13.500000000000002 \n",
      "                        5.481 vs. 3.333 vs. 3.333\n",
      "Flow F: n: 7 to 6.75 \n",
      "                        1.037 vs. 3.333 vs. 3.333\n",
      "Flow G: n: 70 to 8.536585365853659 \n",
      "                        8.200 vs. 12.500 vs. 12.500\n",
      "Flow H: n: 59 to 5.0 \n",
      "                        11.800 vs. 7.500 vs. 7.500\n",
      "Flow I: n: 8 to 2.5 \n",
      "                        3.200 vs. 7.500 vs. 7.500\n",
      "Flow J: n: 57 to 0.14499205087440378 \n",
      "                        393.125 vs. 395.000 vs. 395.000\n",
      "Flow K: n: 44 to 6.4 \n",
      "                        6.875 vs. 5.000 vs. 5.000\n",
      "Flow L: n: 10 to 3.2 \n",
      "                        3.125 vs. 5.000 vs. 5.000\n",
      "Flow M: n: 2 to 0.0751592356687898 \n",
      "                        26.610 vs. 0.253 vs. 15.000\n",
      "Flow N: n: 3 to 0.885 \n",
      "                        3.390 vs. 29.747 vs. 15.000\n",
      "Flow O: n: 87 to 0.4425 \n",
      "                        196.610 vs. 170.253 vs. 185.000\n",
      "Flow P: n: 41 to 0.9605000000000001 \n",
      "                        42.686 vs. 15.000 vs. 15.000\n",
      "Flow Q: n: 13 to 6.8 \n",
      "                        1.912 vs. 10.000 vs. 10.000\n",
      "Flow R: n: 83 to 3.4 \n",
      "                        24.412 vs. 10.000 vs. 10.000\n",
      "Flow S: n: 77 to 0.13016667912400032 \n",
      "                        591.549 vs. 496.667 vs. 496.667\n",
      "Flow T: n: 47 to 13.5 \n",
      "                        3.481 vs. 3.333 vs. 3.333\n",
      "([97, 23, 35, 52, 74, 7, 70, 59, 8, 57, 44, 10, 2, 3, 87, 41, 13, 83, 77, 47], 14.74736842105263)\n"
     ]
    }
   ],
   "source": [
    "# Import the necessary module\n",
    "import random \n",
    "def f(n, display=False):\n",
    "    # Define the initial list n\n",
    "\n",
    "    # Calculate the initial throughput list t\n",
    "    t = wm.tput_mmf(n)\n",
    "\n",
    "    # Calculate the new throughput list t' using n/t\n",
    "    n_prime = [i / j for i, j in zip(n, t)]\n",
    "    t_prime = wm.tput_mmf(n_prime)\n",
    "\n",
    "    # Print the new throughput t'\n",
    "    if display:\n",
    "        for i, t_prime_i in enumerate(t_prime):\n",
    "            print(f\"\"\"Flow {users[i].id}: n: {n[i]} to {n_prime[i]} \n",
    "                        {t[i]:3.3f} vs. {t_prime_i:3.3f} vs. {expected_throughputs[i]:3.3f}\"\"\")\n",
    "    \n",
    "    return max([t_prime[i] - expected_throughputs[i] for i in range(len(t_prime))])\n",
    "\n",
    "\n",
    "linfty_diffs = []\n",
    "for i in range(100):\n",
    "    n = [random.randint(1, 100) for _ in users]\n",
    "    linfty_diffs.append((n, f(n)))\n",
    "\n",
    "    if f(n) > 10:\n",
    "        print(n)\n",
    "        f(n, display=True)\n",
    "        break\n",
    "\n",
    "print(max(linfty_diffs, key=lambda x: x[1]))"
   ]
  },
  {
   "cell_type": "code",
   "execution_count": null,
   "metadata": {},
   "outputs": [],
   "source": []
  },
  {
   "cell_type": "code",
   "execution_count": null,
   "metadata": {},
   "outputs": [],
   "source": []
  }
 ],
 "metadata": {
  "kernelspec": {
   "display_name": "xts",
   "language": "python",
   "name": "python3"
  },
  "language_info": {
   "codemirror_mode": {
    "name": "ipython",
    "version": 3
   },
   "file_extension": ".py",
   "mimetype": "text/x-python",
   "name": "python",
   "nbconvert_exporter": "python",
   "pygments_lexer": "ipython3",
   "version": "3.12.2"
  }
 },
 "nbformat": 4,
 "nbformat_minor": 2
}
